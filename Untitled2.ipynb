{
 "cells": [
  {
   "cell_type": "code",
   "execution_count": 3,
   "id": "d5d58c3c-9fc7-45a5-a478-29abe547e75c",
   "metadata": {},
   "outputs": [],
   "source": [
    "## import all the libraries\n",
    "import pandas as pd\n",
    "from sklearn.ensemble import RandomForestClassifier\n",
    "from sklearn.model_selection import KFold\n",
    "from sklearn.model_selection import cross_val_score"
   ]
  },
  {
   "cell_type": "code",
   "execution_count": null,
   "id": "141a7998-e303-4e86-8987-5ef1df2ee0bd",
   "metadata": {},
   "outputs": [],
   "source": [
    "df=pd.read_csv(\""
   ]
  }
 ],
 "metadata": {
  "kernelspec": {
   "display_name": "Python [conda env:base] *",
   "language": "python",
   "name": "conda-base-py"
  },
  "language_info": {
   "codemirror_mode": {
    "name": "ipython",
    "version": 3
   },
   "file_extension": ".py",
   "mimetype": "text/x-python",
   "name": "python",
   "nbconvert_exporter": "python",
   "pygments_lexer": "ipython3",
   "version": "3.12.7"
  }
 },
 "nbformat": 4,
 "nbformat_minor": 5
}
